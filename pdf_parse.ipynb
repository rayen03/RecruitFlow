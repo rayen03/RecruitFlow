{
  "nbformat": 4,
  "nbformat_minor": 0,
  "metadata": {
    "colab": {
      "provenance": [],
      "authorship_tag": "ABX9TyPJVwxdooLMkHYcCde/bGEG",
      "include_colab_link": true
    },
    "kernelspec": {
      "name": "python3",
      "display_name": "Python 3"
    },
    "language_info": {
      "name": "python"
    }
  },
  "cells": [
    {
      "cell_type": "markdown",
      "metadata": {
        "id": "view-in-github",
        "colab_type": "text"
      },
      "source": [
        "<a href=\"https://colab.research.google.com/github/rayen03/RecruitFlow/blob/main/pdf_parse.ipynb\" target=\"_parent\"><img src=\"https://colab.research.google.com/assets/colab-badge.svg\" alt=\"Open In Colab\"/></a>"
      ]
    },
    {
      "cell_type": "code",
      "source": [
        "pip install pdfx"
      ],
      "metadata": {
        "colab": {
          "base_uri": "https://localhost:8080/"
        },
        "id": "i-W87MZuIQxi",
        "outputId": "e4e85e79-88dc-4ade-91b8-e58f7baa3af5"
      },
      "execution_count": null,
      "outputs": [
        {
          "output_type": "stream",
          "name": "stdout",
          "text": [
            "Collecting pdfx\n",
            "  Downloading pdfx-1.4.1-py2.py3-none-any.whl (21 kB)\n",
            "Collecting pdfminer.six==20201018 (from pdfx)\n",
            "  Downloading pdfminer.six-20201018-py3-none-any.whl (5.6 MB)\n",
            "\u001b[2K     \u001b[90m━━━━━━━━━━━━━━━━━━━━━━━━━━━━━━━━━━━━━━━━\u001b[0m \u001b[32m5.6/5.6 MB\u001b[0m \u001b[31m10.6 MB/s\u001b[0m eta \u001b[36m0:00:00\u001b[0m\n",
            "\u001b[?25hCollecting chardet==4.0.0 (from pdfx)\n",
            "  Downloading chardet-4.0.0-py2.py3-none-any.whl (178 kB)\n",
            "\u001b[2K     \u001b[90m━━━━━━━━━━━━━━━━━━━━━━━━━━━━━━━━━━━━━━━━\u001b[0m \u001b[32m178.7/178.7 kB\u001b[0m \u001b[31m11.9 MB/s\u001b[0m eta \u001b[36m0:00:00\u001b[0m\n",
            "\u001b[?25hRequirement already satisfied: cryptography in /usr/local/lib/python3.10/dist-packages (from pdfminer.six==20201018->pdfx) (41.0.7)\n",
            "Requirement already satisfied: sortedcontainers in /usr/local/lib/python3.10/dist-packages (from pdfminer.six==20201018->pdfx) (2.4.0)\n",
            "Requirement already satisfied: cffi>=1.12 in /usr/local/lib/python3.10/dist-packages (from cryptography->pdfminer.six==20201018->pdfx) (1.16.0)\n",
            "Requirement already satisfied: pycparser in /usr/local/lib/python3.10/dist-packages (from cffi>=1.12->cryptography->pdfminer.six==20201018->pdfx) (2.21)\n",
            "Installing collected packages: chardet, pdfminer.six, pdfx\n",
            "  Attempting uninstall: chardet\n",
            "    Found existing installation: chardet 5.2.0\n",
            "    Uninstalling chardet-5.2.0:\n",
            "      Successfully uninstalled chardet-5.2.0\n",
            "Successfully installed chardet-4.0.0 pdfminer.six-20201018 pdfx-1.4.1\n"
          ]
        }
      ]
    },
    {
      "cell_type": "code",
      "source": [
        "#libraries\n",
        "from google.colab import drive\n",
        "import pdfx\n",
        "import csv\n",
        "import os\n",
        "import glob"
      ],
      "metadata": {
        "id": "0BHnvRU5IK6q"
      },
      "execution_count": null,
      "outputs": []
    },
    {
      "cell_type": "code",
      "source": [
        "#access drive\n",
        "drive.mount('/content/drive')\n"
      ],
      "metadata": {
        "id": "Rp6BK0QQu9b0",
        "outputId": "1c9b1a73-cd9c-4cd8-e4ab-f80f68c12463",
        "colab": {
          "base_uri": "https://localhost:8080/"
        }
      },
      "execution_count": null,
      "outputs": [
        {
          "output_type": "stream",
          "name": "stdout",
          "text": [
            "Drive already mounted at /content/drive; to attempt to forcibly remount, call drive.mount(\"/content/drive\", force_remount=True).\n"
          ]
        }
      ]
    },
    {
      "cell_type": "code",
      "source": [
        "dataDir='/content/drive/MyDrive/RecruitFlow/TestDataset'\n",
        "csv_file='/content/drive/MyDrive/RecruitFlow/parsedCV.csv'\n",
        "\n",
        "\n",
        "dataDir = '/content/drive/MyDrive/RecruitFlow/TestDataset'\n",
        "csv_file = '/content/drive/MyDrive/RecruitFlow/parsedCV.csv'\n",
        "\n",
        "# parse function\n",
        "def parser(dataDir, output_csv):\n",
        "    # Create a list to store tuples of (pdf_file_name, parsed_text)\n",
        "    parsed_data = []\n",
        "\n",
        "    # Iterate over subfolders\n",
        "    subfolders = [f.path for f in os.scandir(dataDir) if f.is_dir()]\n",
        "\n",
        "    for subfolder in subfolders:\n",
        "        # Get a list of PDF files in the current subfolder\n",
        "        pdf_files = glob.glob(f\"{subfolder}/*.pdf\")\n",
        "\n",
        "        # Process each PDF in the subfolder\n",
        "        for pdf_file in pdf_files:\n",
        "            if pdf_file.endswith(\".pdf\"):\n",
        "                pdf_path = os.path.join(dataDir, pdf_file)\n",
        "                print(pdf_path)\n",
        "\n",
        "                # Parse\n",
        "                pdf = pdfx.PDFx(pdf_path)\n",
        "                parsed_text = pdf.get_text()\n",
        "\n",
        "                # Append the tuple to the list\n",
        "                parsed_data.append((pdf_file, parsed_text))\n",
        "\n",
        "    # Save the parsed data to a CSV file\n",
        "    with open(output_csv, 'w', newline='', encoding='utf-8') as csv_file:\n",
        "        csv_writer = csv.writer(csv_file)\n",
        "        csv_writer.writerow(['PDF File Name', 'Parsed Text'])  # Write header\n",
        "\n",
        "        for pdf_name, parsed_text in parsed_data:\n",
        "            csv_writer.writerow([pdf_name, parsed_text])\n",
        "\n",
        "# parser call\n",
        "parser(dataDir, csv_file)\n"
      ],
      "metadata": {
        "id": "0d1wq1CBgWS9",
        "colab": {
          "base_uri": "https://localhost:8080/"
        },
        "outputId": "d7cfa2d7-abeb-4cfb-8d91-8456e9c6eff8"
      },
      "execution_count": null,
      "outputs": [
        {
          "output_type": "stream",
          "name": "stdout",
          "text": [
            "/content/drive/MyDrive/RecruitFlow/TestDataset/ACCOUNTANT/12202337.pdf\n",
            "/content/drive/MyDrive/RecruitFlow/TestDataset/ACCOUNTANT/10554236.pdf\n",
            "/content/drive/MyDrive/RecruitFlow/TestDataset/ACCOUNTANT/12065211.pdf\n",
            "/content/drive/MyDrive/RecruitFlow/TestDataset/ACCOUNTANT/12338274.pdf\n",
            "/content/drive/MyDrive/RecruitFlow/TestDataset/ACCOUNTANT/12802330.pdf\n",
            "/content/drive/MyDrive/RecruitFlow/TestDataset/ACCOUNTANT/11759079.pdf\n",
            "/content/drive/MyDrive/RecruitFlow/TestDataset/ACCOUNTANT/12780508.pdf\n",
            "/content/drive/MyDrive/RecruitFlow/TestDataset/ACCOUNTANT/10674770.pdf\n",
            "/content/drive/MyDrive/RecruitFlow/TestDataset/ACCOUNTANT/12442909.pdf\n",
            "/content/drive/MyDrive/RecruitFlow/TestDataset/ACCOUNTANT/11163645.pdf\n",
            "/content/drive/MyDrive/RecruitFlow/TestDataset/ADVOCATE/11174187.pdf\n",
            "/content/drive/MyDrive/RecruitFlow/TestDataset/ADVOCATE/10659182.pdf\n",
            "/content/drive/MyDrive/RecruitFlow/TestDataset/ADVOCATE/10818478.pdf\n",
            "/content/drive/MyDrive/RecruitFlow/TestDataset/ADVOCATE/11963737.pdf\n",
            "/content/drive/MyDrive/RecruitFlow/TestDataset/ADVOCATE/11773767.pdf\n",
            "/content/drive/MyDrive/RecruitFlow/TestDataset/ADVOCATE/10344379.pdf\n",
            "/content/drive/MyDrive/RecruitFlow/TestDataset/ADVOCATE/11188218.pdf\n",
            "/content/drive/MyDrive/RecruitFlow/TestDataset/ADVOCATE/10186968.pdf\n"
          ]
        }
      ]
    }
  ]
}