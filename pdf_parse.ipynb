{
  "nbformat": 4,
  "nbformat_minor": 0,
  "metadata": {
    "colab": {
      "provenance": []
    },
    "kernelspec": {
      "name": "python3",
      "display_name": "Python 3"
    },
    "language_info": {
      "name": "python"
    }
  },
  "cells": [
    {
      "cell_type": "code",
      "source": [
        "import pdfx\n",
        "import spacy\n",
        "import pandas as pd\n",
        "import glob\n",
        "\n",
        "# Path to the folder containing the PDFs\n",
        "pdf_folder_path = \"/path/to/your/pdf/folder\"\n",
        "\n",
        "# Get a list of PDF files in the folder\n",
        "pdf_files = glob.glob(f\"{pdf_folder_path}/*.pdf\")\n",
        "\n",
        "# Initialize empty DataFrame\n",
        "cols = (\"text\", \"lemma\", \"POS\", \"explain\", \"stopword\")\n",
        "all_dfs = []\n",
        "\n",
        "# Process each PDF\n",
        "for pdf_file in pdf_files:\n",
        "    # Extract text from the PDF\n",
        "    pdf = pdfx.PDFx(pdf_file)\n",
        "    text = pdf.get_text()\n",
        "\n",
        "    # Process text with spaCy\n",
        "    nlp = spacy.load(\"en_core_web_sm\")\n",
        "    doc = nlp(text)\n",
        "\n",
        "    # Create DataFrame for token information\n",
        "    rows = []\n",
        "    for t in doc:\n",
        "        row = [t.text, t.lemma_, t.pos_, spacy.explain(t.pos_), t.is_stop]\n",
        "        rows.append(row)\n",
        "\n",
        "    df = pd.DataFrame(rows, columns=cols)\n",
        "\n",
        "    # Add DataFrame to the list\n",
        "    all_dfs.append(df)\n",
        "\n",
        "# Display or save the results\n",
        "for idx, df in enumerate(all_dfs):\n",
        "    print(f\"Token information for PDF {idx + 1}:\")\n",
        "    print(df)\n",
        "    print(\"\\n\")\n",
        "\n",
        "# Example of printing named entities from the last processed PDF\n",
        "print(\"Named entities in the last PDF:\")\n",
        "for ent in doc.ents:\n",
        "    print(ent.text, ent.label_)\n"
      ],
      "metadata": {
        "id": "0d1wq1CBgWS9"
      },
      "execution_count": null,
      "outputs": []
    }
  ]
}